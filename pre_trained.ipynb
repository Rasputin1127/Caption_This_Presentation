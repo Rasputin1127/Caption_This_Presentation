{
 "cells": [
  {
   "cell_type": "code",
   "execution_count": 2,
   "metadata": {},
   "outputs": [],
   "source": [
    "import numpy as np\n",
    "import pandas as pd\n",
    "import tensorflow as tf\n",
    "import deepasr as asr\n",
    "\n",
    "# get CTCPipeline\n",
    "def get_config(feature_type: str = 'spectrogram', multi_gpu: bool = False):\n",
    "    # audio feature extractor\n",
    "    features_extractor = asr.features.preprocess(feature_type=feature_type, features_num=161,\n",
    "                                                 samplerate=16000,\n",
    "                                                 winlen=0.02,\n",
    "                                                 winstep=0.025,\n",
    "                                                 winfunc=np.hanning)\n",
    "\n",
    "    # input label encoder\n",
    "    alphabet_en = asr.vocab.Alphabet(lang='en')\n",
    "    # training model\n",
    "    model = asr.model.get_deepspeech2(\n",
    "        input_dim=161,\n",
    "        output_dim=29,\n",
    "        is_mixed_precision=True\n",
    "    )\n",
    "    # model optimizer\n",
    "    optimizer = tf.keras.optimizers.Adam(\n",
    "        lr=1e-4,\n",
    "        beta_1=0.9,\n",
    "        beta_2=0.999,\n",
    "        epsilon=1e-8\n",
    "    )\n",
    "    # output label deocder\n",
    "    decoder = asr.decoder.GreedyDecoder()\n",
    "    # decoder = asr.decoder.BeamSearchDecoder(beam_width=100, top_paths=1)\n",
    "    # CTCPipeline\n",
    "    pipeline = asr.pipeline.ctc_pipeline.CTCPipeline(\n",
    "        alphabet=alphabet_en, features_extractor=features_extractor, model=model, optimizer=optimizer, decoder=decoder,\n",
    "        sample_rate=16000, mono=True, multi_gpu=multi_gpu\n",
    "    )\n",
    "    return pipeline"
   ]
  },
  {
   "cell_type": "code",
   "execution_count": null,
   "metadata": {},
   "outputs": [],
   "source": [
    "train_data = pd.read_csv('train_data.csv')\n",
    "\n",
    "pipeline = get_config(feature_type = 'fbank', multi_gpu=False)\n",
    "\n",
    "# train asr model\n",
    "history = pipeline.fit(train_dataset=train_data, batch_size=128, epochs=500)\n",
    "# history = pipeline.fit_generator(train_dataset = train_data, batch_size=32, epochs=500)\n",
    "\n",
    "pipeline.save('./checkpoint')"
   ]
  }
 ],
 "metadata": {
  "kernelspec": {
   "display_name": "Python 3",
   "language": "python",
   "name": "python3"
  },
  "language_info": {
   "codemirror_mode": {
    "name": "ipython",
    "version": 3
   },
   "file_extension": ".py",
   "mimetype": "text/x-python",
   "name": "python",
   "nbconvert_exporter": "python",
   "pygments_lexer": "ipython3",
   "version": "3.7.7"
  }
 },
 "nbformat": 4,
 "nbformat_minor": 4
}
